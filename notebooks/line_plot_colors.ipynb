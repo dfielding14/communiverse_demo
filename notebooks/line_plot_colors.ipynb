{
 "cells": [
  {
   "cell_type": "code",
   "execution_count": null,
   "metadata": {},
   "outputs": [],
   "source": [
    "import matplotlib.pyplot as plt\n",
    "import numpy as np\n",
    "import cmasher as cmr\n",
    "\n",
    "plt.rcParams['xtick.top'] = True\n",
    "plt.rcParams['ytick.right'] = True\n",
    "plt.rcParams['xtick.direction'] = 'in'\n",
    "plt.rcParams['ytick.direction'] = 'in'\n"
   ]
  },
  {
   "cell_type": "code",
   "execution_count": null,
   "metadata": {},
   "outputs": [],
   "source": [
    "# sample data\n",
    "N_data_points = 50\n",
    "x = np.logspace(0, 1.2, N_data_points)\n",
    "y = x**1\n",
    "\n",
    "# set the random seed\n",
    "np.random.seed(4)\n",
    "\n",
    "N_lines = 10\n",
    "ys = np.array([ y * np.random.normal(1, 0.2, N_data_points)*((26-(i-4.1)**2) * (i+1)) for i in range(N_lines)])\n",
    "\n",
    "fig, ax = plt.subplots(dpi=200)\n",
    "for i in range(N_lines):\n",
    "    ax.plot(x,ys[i], label='Line {}'.format(i))\n",
    "ax.legend(loc='upper left', ncol=2, fontsize=8)\n",
    "ax.set_xscale('log')\n",
    "ax.set_yscale('log')\n",
    "ax.set_xlabel('x')\n",
    "ax.set_ylabel('y')\n",
    "plt.show()"
   ]
  },
  {
   "cell_type": "markdown",
   "metadata": {},
   "source": [
    "# If you ignore the choice of colors you might miss trends in the data!\n",
    "Look at what happens if we use a monotonic color scheme for the data."
   ]
  },
  {
   "cell_type": "code",
   "execution_count": null,
   "metadata": {},
   "outputs": [],
   "source": [
    "# sample data\n",
    "N_data_points = 50\n",
    "x = np.logspace(0, 1.2, N_data_points)\n",
    "y = x**1\n",
    "\n",
    "# set the random seed\n",
    "np.random.seed(4)\n",
    "\n",
    "N_lines = 10\n",
    "ys = np.array([ y * np.random.normal(1, 0.2, N_data_points)*((26-(i-4.1)**2) * (i+1)) for i in range(N_lines)])\n",
    "\n",
    "colors = plt.cm.viridis(np.linspace(0, 0.99, N_lines))\n",
    "\n",
    "fig, ax = plt.subplots(dpi=200)\n",
    "for i in range(N_lines):\n",
    "    ax.plot(x,ys[i], label='Line {}'.format(i), color=colors[i])\n",
    "ax.legend(loc='upper left', ncol=2, fontsize=8)\n",
    "ax.set_xscale('log')\n",
    "ax.set_yscale('log')\n",
    "ax.set_xlabel('x')\n",
    "ax.set_ylabel('y')\n",
    "plt.show()"
   ]
  },
  {
   "cell_type": "markdown",
   "metadata": {},
   "source": [
    "# What to do with the labels when you have a lot of lines..."
   ]
  },
  {
   "cell_type": "code",
   "execution_count": null,
   "metadata": {},
   "outputs": [],
   "source": [
    "# sample data\n",
    "N_data_points = 50\n",
    "x = np.logspace(0, 1.2, N_data_points)\n",
    "y = x**1\n",
    "\n",
    "# set the random seed\n",
    "np.random.seed(4)\n",
    "\n",
    "N_lines = 10\n",
    "ys = np.array([ y * np.random.normal(1, 0.2, N_data_points)*((26-(i-4.1)**2) * (i+1)) for i in range(N_lines)])\n",
    "\n",
    "colors = plt.cm.viridis(np.linspace(0, 0.99, N_lines))\n",
    "\n",
    "fig, ax = plt.subplots(dpi=200)\n",
    "for i in range(N_lines):\n",
    "    ax.plot(x,ys[i], label='Line {}'.format(i), color=colors[i])\n",
    "ax.legend(loc='upper left', ncol=2, fontsize=8)\n",
    "ax.set_xscale('log')\n",
    "ax.set_yscale('log')\n",
    "ax.set_xlabel('x')\n",
    "ax.set_ylabel('y')\n",
    "fig.set_size_inches(3.5, 3.5)"
   ]
  },
  {
   "cell_type": "markdown",
   "metadata": {},
   "source": [
    "# you can try to shrink it down and make it fit"
   ]
  },
  {
   "cell_type": "code",
   "execution_count": null,
   "metadata": {},
   "outputs": [],
   "source": [
    "# sample data\n",
    "N_data_points = 50\n",
    "x = np.logspace(0, 1.2, N_data_points)\n",
    "y = x**1\n",
    "\n",
    "# set the random seed\n",
    "np.random.seed(4)\n",
    "\n",
    "N_lines = 10\n",
    "ys = np.array([ y * np.random.normal(1, 0.2, N_data_points)*((26-(i-4.1)**2) * (i+1)) for i in range(N_lines)])\n",
    "\n",
    "colors = plt.cm.viridis(np.linspace(0, 0.99, N_lines))\n",
    "\n",
    "fig, ax = plt.subplots(dpi=200)\n",
    "for i in range(N_lines):\n",
    "    ax.plot(x,ys[i], label='Line {}'.format(i), color=colors[i])\n",
    "ax.legend(loc='upper left', fontsize=6, ncol=4, columnspacing=0.5, handletextpad=0.5, handlelength=1)\n",
    "ax.set_xscale('log')\n",
    "ax.set_yscale('log')\n",
    "ax.set_xlabel('x')\n",
    "ax.set_ylabel('y')\n",
    "fig.set_size_inches(3.5, 3.5)"
   ]
  },
  {
   "cell_type": "markdown",
   "metadata": {},
   "source": [
    "# or move it outside the plot area to buy some room"
   ]
  },
  {
   "cell_type": "code",
   "execution_count": null,
   "metadata": {},
   "outputs": [],
   "source": [
    "# sample data\n",
    "N_data_points = 50\n",
    "x = np.logspace(0, 1.2, N_data_points)\n",
    "y = x**1\n",
    "\n",
    "# set the random seed\n",
    "np.random.seed(4)\n",
    "\n",
    "N_lines = 10\n",
    "ys = np.array([ y * np.random.normal(1, 0.2, N_data_points)*((26-(i-4.1)**2) * (i+1)) for i in range(N_lines)])\n",
    "\n",
    "colors = plt.cm.viridis(np.linspace(0, 0.99, N_lines))\n",
    "\n",
    "fig, ax = plt.subplots(dpi=200)\n",
    "for i in range(N_lines):\n",
    "    ax.plot(x,ys[i], label='Line {}'.format(i), color=colors[i])\n",
    "ax.legend(loc='upper left', fontsize=10, ncol=1, columnspacing=0.5, handletextpad=0.5, handlelength=1, bbox_to_anchor=(1, 1))\n",
    "ax.set_xscale('log')\n",
    "ax.set_yscale('log')\n",
    "ax.set_xlabel('x')\n",
    "ax.set_ylabel('y')\n",
    "fig.set_size_inches(3.5, 3.5)"
   ]
  },
  {
   "cell_type": "markdown",
   "metadata": {},
   "source": [
    "# or (my favorite) is to make a colorbar for your lines and put the labels there."
   ]
  },
  {
   "cell_type": "code",
   "execution_count": null,
   "metadata": {},
   "outputs": [],
   "source": [
    "fig, ax = plt.subplots(dpi=200)\n",
    "for i in range(N_lines):\n",
    "    ax.plot(x,ys[i], label='Line {}'.format(i), color=colors[i])\n",
    "ax.set_xscale('log')\n",
    "ax.set_yscale('log')\n",
    "ax.set_xlabel('x')\n",
    "ax.set_ylabel('y')\n",
    "\n",
    "# adjust the original axis to make room for the colorbar\n",
    "fig.subplots_adjust(top=0.95)\n",
    "\n",
    "# add a colorbar axis to the top\n",
    "cax = fig.add_axes([0.15, 0.97, 0.7, 0.03])\n",
    "\n",
    "# remove yticks from the colorbar axis\n",
    "cax.yaxis.set_visible(False)\n",
    "\n",
    "# move x tick labels to the top\n",
    "cax.xaxis.tick_top()\n",
    "\n",
    "# create the colorbar\n",
    "cbar = plt.colorbar(plt.cm.ScalarMappable(cmap=plt.cm.viridis, norm=plt.Normalize(0, 10)), cax=cax, location='top')\n",
    "\n",
    "# set the colorbar ticks and tick labels\n",
    "cbar.set_label(\"Line number\")\n",
    "\n",
    "fig.set_size_inches(3.5, 3.5)"
   ]
  },
  {
   "cell_type": "code",
   "execution_count": null,
   "metadata": {},
   "outputs": [],
   "source": [
    "fig, ax = plt.subplots(dpi=200)\n",
    "for i in range(N_lines):\n",
    "    ax.plot(x,ys[i], label='Line {}'.format(i), color=colors[i])\n",
    "ax.set_xscale('log')\n",
    "ax.set_yscale('log')\n",
    "ax.set_xlabel('x')\n",
    "ax.set_ylabel('y')\n",
    "\n",
    "# adjust the original axis to make room for the colorbar\n",
    "fig.subplots_adjust(top=0.95)\n",
    "\n",
    "# add a colorbar axis to the top\n",
    "cax = fig.add_axes([0.15, 0.97, 0.7, 0.03])\n",
    "\n",
    "# remove yticks from the colorbar axis\n",
    "cax.yaxis.set_visible(False)\n",
    "\n",
    "# move x tick labels to the top\n",
    "cax.xaxis.tick_top()\n",
    "\n",
    "# create the colorbar\n",
    "cbar = plt.colorbar(plt.cm.ScalarMappable(cmap=plt.cm.viridis, norm=plt.Normalize(0, 10)), cax=cax, location='top')\n",
    "\n",
    "# set the colorbar ticks and tick labels\n",
    "cbar.set_ticks([0, 10])\n",
    "cbar.set_ticklabels(['Low', 'High'])\n",
    "\n",
    "\n",
    "fig.set_size_inches(3.5, 3.5)"
   ]
  },
  {
   "cell_type": "markdown",
   "metadata": {},
   "source": [
    "## I often use a discrete colorbar "
   ]
  },
  {
   "cell_type": "code",
   "execution_count": null,
   "metadata": {},
   "outputs": [],
   "source": [
    "fig, ax = plt.subplots(dpi=200)\n",
    "for i in range(N_lines):\n",
    "    ax.plot(x,ys[i], label='Line {}'.format(i), color=colors[i])\n",
    "ax.set_xscale('log')\n",
    "ax.set_yscale('log')\n",
    "ax.set_xlabel('x')\n",
    "ax.set_ylabel('y')\n",
    "\n",
    "# adjust the original axis to make room for the colorbar\n",
    "fig.subplots_adjust(top=0.95)\n",
    "\n",
    "# add a colorbar axis to the top\n",
    "cax = fig.add_axes([0.15, 0.97, 0.7, 0.03])\n",
    "\n",
    "# remove yticks from the colorbar axis\n",
    "cax.yaxis.set_visible(False)\n",
    "\n",
    "# move x tick labels to the top\n",
    "cax.xaxis.tick_top()\n",
    "cax.xaxis.set_label_position('top')\n",
    "\n",
    "# create the colorbar\n",
    "for i in range(N_lines):\n",
    "    cax.fill_betweenx([0, 1], i-0.5, i+0.5, color=colors[i])\n",
    "cax.set_xlim(-0.5,9.5)\n",
    "cax.set_xticks(range(10))\n",
    "\n",
    "# set the colorbar label\n",
    "cax.set_xlabel(\"Line number\")\n",
    "\n",
    "fig.set_size_inches(3.5, 3.5)"
   ]
  },
  {
   "cell_type": "markdown",
   "metadata": {},
   "source": [
    "# Or you can get realllllly fancy and put it as an inset plot in the corner of the plot area."
   ]
  },
  {
   "cell_type": "code",
   "execution_count": null,
   "metadata": {},
   "outputs": [],
   "source": [
    "# import matplotlib inset axes\n",
    "from mpl_toolkits.axes_grid1.inset_locator import inset_axes\n",
    "\n",
    "fig, ax = plt.subplots(dpi=200)\n",
    "for i in range(N_lines):\n",
    "    ax.plot(x,ys[i], label='Line {}'.format(i), color=colors[i])\n",
    "ax.set_xscale('log')\n",
    "ax.set_yscale('log')\n",
    "ax.set_xlabel('x')\n",
    "ax.set_ylabel('y')\n",
    "\n",
    "\n",
    "# add a colorbar axis as an inset on the bottom right corner \n",
    "cax = inset_axes(ax, width=\"60%\", height=\"5%\", loc='lower right', borderpad=0.5)\n",
    "\n",
    "# remove yticks from the colorbar axis\n",
    "cax.yaxis.set_visible(False)\n",
    "\n",
    "# move x tick labels to the top\n",
    "cax.xaxis.tick_top()\n",
    "cax.xaxis.set_label_position('top')\n",
    "\n",
    "# create the colorbar\n",
    "for i in range(N_lines):\n",
    "    cax.fill_betweenx([0, 1], i-0.5, i+0.5, color=colors[i])\n",
    "cax.set_xlim(-0.5,9.5)\n",
    "cax.set_xticks(range(10))\n",
    "\n",
    "# set the colorbar label\n",
    "cax.set_xlabel(\"Line number\")\n",
    "\n",
    "fig.set_size_inches(3.5, 3.5)"
   ]
  },
  {
   "cell_type": "markdown",
   "metadata": {},
   "source": [
    "# Everybody uses the default matplotlib color cycles and colormaps. You can make your plots stand out by using different ones."
   ]
  },
  {
   "cell_type": "code",
   "execution_count": null,
   "metadata": {},
   "outputs": [],
   "source": [
    "colors = plt.cm.turbo(np.linspace(0, 0.99, N_lines))\n",
    "\n",
    "fig, ax = plt.subplots(dpi=200)\n",
    "for i in range(N_lines):\n",
    "    ax.plot(x,ys[i], label='Line {}'.format(i), color=colors[i])\n",
    "ax.set_xscale('log')\n",
    "ax.set_yscale('log')\n",
    "ax.set_xlabel('x')\n",
    "ax.set_ylabel('y')\n",
    "\n",
    "\n",
    "# add a colorbar axis as an inset on the bottom right corner \n",
    "cax = inset_axes(ax, width=\"60%\", height=\"5%\", loc='lower right', borderpad=0.5)\n",
    "\n",
    "# remove yticks from the colorbar axis\n",
    "cax.yaxis.set_visible(False)\n",
    "\n",
    "# move x tick labels to the top\n",
    "cax.xaxis.tick_top()\n",
    "cax.xaxis.set_label_position('top')\n",
    "\n",
    "# create the colorbar\n",
    "for i in range(N_lines):\n",
    "    cax.fill_betweenx([0, 1], i-0.5, i+0.5, color=colors[i])\n",
    "cax.set_xlim(-0.5,9.5)\n",
    "cax.set_xticks(range(10))\n",
    "\n",
    "# set the colorbar label\n",
    "cax.set_xlabel(\"Line number\")\n",
    "\n",
    "fig.set_size_inches(3.5, 3.5)"
   ]
  },
  {
   "cell_type": "markdown",
   "metadata": {},
   "source": [
    "# Or if you really want to make it your own go exploring!\n",
    "\n",
    "https://public.tableau.com/app/profile/ken.flerlage/viz/DatafamColors/StartPage\n",
    "\n",
    "https://color.hailpixel.com\n",
    "\n",
    "https://www.huesnap.com/\n",
    "\n",
    "https://meodai.github.io/poline/\n",
    "\n",
    "https://www.toptal.com/designers/colourcode"
   ]
  },
  {
   "cell_type": "markdown",
   "metadata": {},
   "source": [
    "# In presentations it is often better to use a dark background. You can use the dark_background style or set the facecolor of your plot to black."
   ]
  },
  {
   "cell_type": "code",
   "execution_count": null,
   "metadata": {},
   "outputs": [],
   "source": [
    "# dark background example\n",
    "\n",
    "plt.style.use('dark_background')\n",
    "\n",
    "fig, ax = plt.subplots(dpi=200)\n",
    "for i in range(N_lines):\n",
    "    ax.plot(x,ys[i], label='Line {}'.format(i), color=colors[i])\n",
    "ax.set_xscale('log')\n",
    "ax.set_yscale('log')\n",
    "ax.set_xlabel('x')\n",
    "ax.set_ylabel('y')\n",
    "\n",
    "# add a colorbar axis as an inset on the bottom right corner\n",
    "cax = inset_axes(ax, width=\"60%\", height=\"5%\", loc='lower right', borderpad=0.5)\n",
    "\n",
    "# remove yticks from the colorbar axis\n",
    "cax.yaxis.set_visible(False)\n",
    "\n",
    "# move x tick labels to the top\n",
    "cax.xaxis.tick_top()\n",
    "cax.xaxis.set_label_position('top')\n",
    "\n",
    "# create the colorbar\n",
    "for i in range(N_lines):\n",
    "    cax.fill_betweenx([0, 1], i-0.5, i+0.5, color=colors[i])\n",
    "cax.set_xlim(-0.5,9.5)\n",
    "cax.set_xticks(range(10))\n",
    "\n",
    "# set the colorbar label\n",
    "cax.set_xlabel(\"Line number\")\n",
    "\n",
    "fig.set_size_inches(3.5, 3.5)\n"
   ]
  },
  {
   "cell_type": "code",
   "execution_count": null,
   "metadata": {},
   "outputs": [],
   "source": []
  }
 ],
 "metadata": {
  "kernelspec": {
   "display_name": "venv",
   "language": "python",
   "name": "python3"
  },
  "language_info": {
   "codemirror_mode": {
    "name": "ipython",
    "version": 3
   },
   "file_extension": ".py",
   "mimetype": "text/x-python",
   "name": "python",
   "nbconvert_exporter": "python",
   "pygments_lexer": "ipython3",
   "version": "3.11.6"
  }
 },
 "nbformat": 4,
 "nbformat_minor": 2
}
