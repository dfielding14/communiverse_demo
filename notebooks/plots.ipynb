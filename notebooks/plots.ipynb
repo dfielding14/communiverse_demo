{
 "cells": [
  {
   "cell_type": "code",
   "execution_count": null,
   "metadata": {},
   "outputs": [],
   "source": [
    "import matplotlib\n",
    "import matplotlib.pyplot as plt\n",
    "import numpy as np"
   ]
  },
  {
   "cell_type": "code",
   "execution_count": null,
   "metadata": {},
   "outputs": [],
   "source": [
    "# sample data\n",
    "N_data_points = 20\n",
    "x = np.logspace(0, 1.2, N_data_points)\n",
    "y = x**1\n",
    "\n",
    "# set the random seed\n",
    "np.random.seed(2)\n",
    "\n",
    "# add some noise to y\n",
    "y1 = y * np.random.normal(1, 1, N_data_points)\n",
    "\n",
    "# make a second y with some different noise and an offset\n",
    "y2 = y * np.random.normal(1, 0.5, N_data_points) + 1\n",
    "\n",
    "fig, ax = plt.subplots(dpi=200)\n",
    "ax.plot(x,y1, 'o')\n",
    "ax.plot(x,y2, 'o')\n",
    "ax.set_xscale('log')\n",
    "ax.set_yscale('log')\n",
    "plt.show()"
   ]
  },
  {
   "cell_type": "code",
   "execution_count": null,
   "metadata": {},
   "outputs": [],
   "source": [
    "# sample data\n",
    "N_data_points = 20\n",
    "x = np.logspace(0, 1.2, N_data_points)\n",
    "y = x**1\n",
    "\n",
    "# set the random seed\n",
    "np.random.seed(2)\n",
    "\n",
    "# add some noise to y\n",
    "y1 = y * np.random.normal(1, 1, N_data_points)\n",
    "\n",
    "# make a second y with some different noise and an offset\n",
    "y2 = y * np.random.normal(1, 0.5, N_data_points) + 1\n",
    "\n",
    "fig, ax = plt.subplots(dpi=200)\n",
    "ax.plot(x,y1, 'o')\n",
    "ax.plot(x,y2, 'o')\n",
    "ax.scatter(x[-3], y1[-3], color='tab:red', zorder=10, s=80)\n",
    "ax.text(x[-3]-2, y1[-3], r'What are the coordinates of this point? $\\rightarrow$', fontsize=12, ha='right', va='center')\n",
    "ax.set_xscale('log')\n",
    "ax.set_yscale('log')\n",
    "plt.show()"
   ]
  },
  {
   "cell_type": "code",
   "execution_count": null,
   "metadata": {},
   "outputs": [],
   "source": [
    "# turn on the top and right ticks\n",
    "plt.rcParams['xtick.top'] = True\n",
    "plt.rcParams['ytick.right'] = True\n",
    "\n",
    "# sample data\n",
    "N_data_points = 20\n",
    "x = np.logspace(0, 1.2, N_data_points)\n",
    "y = x**1\n",
    "\n",
    "# set the random seed\n",
    "np.random.seed(2)\n",
    "\n",
    "# add some noise to y\n",
    "y1 = y * np.random.normal(1, 1, N_data_points)\n",
    "\n",
    "# make a second y with some different noise and an offset\n",
    "y2 = y * np.random.normal(1, 0.5, N_data_points) + 1\n",
    "\n",
    "fig, ax = plt.subplots(dpi=200)\n",
    "ax.plot(x,y1, 'o')\n",
    "ax.plot(x,y2, 'o')\n",
    "ax.scatter(x[-3], y1[-3], color='tab:red', zorder=10, s=80)\n",
    "ax.text(x[-3]-2, y1[-3], r'somewhat easier with top and right ticks', fontsize=12, ha='right', va='center')\n",
    "ax.set_xscale('log')\n",
    "ax.set_yscale('log')\n",
    "plt.show()"
   ]
  },
  {
   "cell_type": "markdown",
   "metadata": {},
   "source": [
    "## Tick locations are a matter of taste\n",
    "\n",
    "I personally like the ticks on all 4 axes and facing in. You should explore and see what you like visually, and think about if it helps make your data more legible."
   ]
  },
  {
   "cell_type": "code",
   "execution_count": null,
   "metadata": {},
   "outputs": [],
   "source": [
    "plt.rcParams['xtick.direction'] = 'in'\n",
    "plt.rcParams['ytick.direction'] = 'in'\n",
    "\n",
    "\n",
    "# sample data\n",
    "N_data_points = 20\n",
    "x = np.logspace(0, 1.2, N_data_points)\n",
    "y = x**1\n",
    "\n",
    "# set the random seed\n",
    "np.random.seed(2)\n",
    "\n",
    "# add some noise to y\n",
    "y1 = y * np.random.normal(1, 1, N_data_points)\n",
    "\n",
    "# make a second y with some different noise and an offset\n",
    "y2 = y * np.random.normal(1, 0.5, N_data_points) + 1\n",
    "\n",
    "fig, ax = plt.subplots(dpi=200)\n",
    "ax.plot(x,y1, 'o')\n",
    "ax.plot(x,y2, 'o')\n",
    "ax.scatter(x[-3], y1[-3], color='tab:red', zorder=10, s=80)\n",
    "ax.text(x[-3]-2, y1[-3], r'somewhat easier with top and right ticks', fontsize=12, ha='right', va='center')\n",
    "ax.set_xscale('log')\n",
    "ax.set_yscale('log')\n",
    "plt.show()"
   ]
  },
  {
   "cell_type": "markdown",
   "metadata": {},
   "source": [
    "## you can also get crazy with inout!"
   ]
  },
  {
   "cell_type": "code",
   "execution_count": null,
   "metadata": {},
   "outputs": [],
   "source": [
    "plt.rcParams['xtick.direction'] = 'inout'\n",
    "plt.rcParams['ytick.direction'] = 'inout'\n",
    "\n",
    "\n",
    "# sample data\n",
    "N_data_points = 20\n",
    "x = np.logspace(0, 1.2, N_data_points)\n",
    "y = x**1\n",
    "\n",
    "# set the random seed\n",
    "np.random.seed(2)\n",
    "\n",
    "# add some noise to y\n",
    "y1 = y * np.random.normal(1, 1, N_data_points)\n",
    "\n",
    "# make a second y with some different noise and an offset\n",
    "y2 = y * np.random.normal(1, 0.5, N_data_points) + 1\n",
    "\n",
    "fig, ax = plt.subplots(dpi=200)\n",
    "ax.plot(x,y1, 'o')\n",
    "ax.plot(x,y2, 'o')\n",
    "ax.scatter(x[-3], y1[-3], color='tab:red', zorder=10, s=80)\n",
    "ax.text(x[-3]-2, y1[-3], r'somewhat easier with top and right ticks', fontsize=12, ha='right', va='center')\n",
    "ax.set_xscale('log')\n",
    "ax.set_yscale('log')\n",
    "plt.show()"
   ]
  },
  {
   "cell_type": "markdown",
   "metadata": {},
   "source": [
    "# Let's now play around with some more of the axes parameters and make what you think looks best for your data."
   ]
  },
  {
   "cell_type": "code",
   "execution_count": null,
   "metadata": {},
   "outputs": [],
   "source": [
    "plt.rcParams['xtick.top'] = True\n",
    "plt.rcParams['ytick.right'] = True\n",
    "plt.rcParams['xtick.direction'] = 'in'\n",
    "plt.rcParams['ytick.direction'] = 'in'\n",
    "plt.rcParams['axes.linewidth'] = 2  # Set the thickness of the axes\n",
    "plt.rcParams['xtick.major.width'] = 2  # Set the thickness of the major x-ticks\n",
    "plt.rcParams['xtick.major.size'] = 6  # Set the length of the major x-ticks\n",
    "plt.rcParams['xtick.minor.width'] = 1  # Set the thickness of the minor x-ticks\n",
    "plt.rcParams['xtick.minor.size'] = 3  # Set the length of the minor x-ticks\n",
    "plt.rcParams['ytick.major.width'] = 2  # Set the thickness of the major y-ticks\n",
    "plt.rcParams['ytick.major.size'] = 6  # Set the length of the major y-ticks\n",
    "plt.rcParams['ytick.minor.width'] = 1  # Set the thickness of the minor y-ticks\n",
    "plt.rcParams['ytick.minor.size'] = 3  # Set the length of the minor y-ticks\n",
    "\n",
    "\n",
    "# sample data\n",
    "N_data_points = 20\n",
    "x = np.logspace(0, 1.2, N_data_points)\n",
    "y = x**1\n",
    "\n",
    "# set the random seed\n",
    "np.random.seed(2)\n",
    "\n",
    "# add some noise to y\n",
    "y1 = y * np.random.normal(1, 1, N_data_points)\n",
    "\n",
    "# make a second y with some different noise and an offset\n",
    "y2 = y * np.random.normal(1, 0.5, N_data_points) + 1\n",
    "\n",
    "fig, ax = plt.subplots(dpi=200)\n",
    "ax.plot(x,y1, 'o')\n",
    "ax.plot(x,y2, 'o')\n",
    "ax.scatter(x[-3], y1[-3], color='tab:red', zorder=10, s=80)\n",
    "ax.text(x[-3]-2, y1[-3], r'somewhat easier with top and right ticks', fontsize=12, ha='right', va='center')\n",
    "ax.set_xscale('log')\n",
    "ax.set_yscale('log')\n",
    "plt.show()"
   ]
  },
  {
   "cell_type": "code",
   "execution_count": null,
   "metadata": {},
   "outputs": [],
   "source": [
    "plt.rcParams['xtick.top'] = True\n",
    "plt.rcParams['ytick.right'] = True\n",
    "plt.rcParams['xtick.direction'] = 'in'\n",
    "plt.rcParams['ytick.direction'] = 'in'\n",
    "plt.rcParams['axes.linewidth'] = 0.5  # Set the thickness of the axes\n",
    "plt.rcParams['xtick.major.width'] = 0.5  # Set the thickness of the major x-ticks\n",
    "plt.rcParams['xtick.major.size'] = 2  # Set the length of the major x-ticks\n",
    "plt.rcParams['xtick.minor.width'] = 0.5  # Set the thickness of the minor x-ticks\n",
    "plt.rcParams['xtick.minor.size'] = 1  # Set the length of the minor x-ticks\n",
    "plt.rcParams['ytick.major.width'] = 0.5  # Set the thickness of the major y-ticks\n",
    "plt.rcParams['ytick.major.size'] = 2  # Set the length of the major y-ticks\n",
    "plt.rcParams['ytick.minor.width'] = 0.5  # Set the thickness of the minor y-ticks\n",
    "plt.rcParams['ytick.minor.size'] = 1  # Set the length of the minor y-ticks\n",
    "\n",
    "\n",
    "# sample data\n",
    "N_data_points = 20\n",
    "x = np.logspace(0, 1.2, N_data_points)\n",
    "y = x**1\n",
    "\n",
    "# set the random seed\n",
    "np.random.seed(2)\n",
    "\n",
    "# add some noise to y\n",
    "y1 = y * np.random.normal(1, 1, N_data_points)\n",
    "\n",
    "# make a second y with some different noise and an offset\n",
    "y2 = y * np.random.normal(1, 0.5, N_data_points) + 1\n",
    "\n",
    "fig, ax = plt.subplots(dpi=200)\n",
    "ax.plot(x,y1, 'o')\n",
    "ax.plot(x,y2, 'o')\n",
    "ax.scatter(x[-3], y1[-3], color='tab:red', zorder=10, s=80)\n",
    "ax.text(x[-3]-2, y1[-3], r'somewhat easier with top and right ticks', fontsize=12, ha='right', va='center')\n",
    "ax.set_xscale('log')\n",
    "ax.set_yscale('log')\n",
    "plt.show()"
   ]
  },
  {
   "cell_type": "markdown",
   "metadata": {},
   "source": [
    "# Fonts!"
   ]
  },
  {
   "cell_type": "code",
   "execution_count": null,
   "metadata": {},
   "outputs": [],
   "source": [
    "plt.rc('text', usetex=False)\n",
    "\n",
    "plt.rcParams['font.family'] = 'Comic Sans MS'\n",
    "\n",
    "plt.rcParams['xtick.top'] = False\n",
    "plt.rcParams['ytick.right'] = False\n",
    "plt.rcParams['xtick.direction'] = 'in'\n",
    "plt.rcParams['ytick.direction'] = 'in'\n",
    "plt.rcParams['axes.linewidth'] = 0.75  # Set the thickness of the axes\n",
    "plt.rcParams['xtick.major.width'] = 0.5  # Set the thickness of the major x-ticks\n",
    "plt.rcParams['xtick.major.size'] = 4  # Set the length of the major x-ticks\n",
    "plt.rcParams['xtick.minor.width'] = 0.5  # Set the thickness of the minor x-ticks\n",
    "plt.rcParams['xtick.minor.size'] = 2  # Set the length of the minor x-ticks\n",
    "plt.rcParams['ytick.major.width'] = 0.5  # Set the thickness of the major y-ticks\n",
    "plt.rcParams['ytick.major.size'] = 4  # Set the length of the major y-ticks\n",
    "plt.rcParams['ytick.minor.width'] = 0.5  # Set the thickness of the minor y-ticks\n",
    "plt.rcParams['ytick.minor.size'] = 2  # Set the length of the minor y-ticks\n",
    "\n",
    "\n",
    "# sample data\n",
    "N_data_points = 20\n",
    "x = np.logspace(0, 1.2, N_data_points)\n",
    "y = x**1\n",
    "\n",
    "# set the random seed\n",
    "np.random.seed(2)\n",
    "\n",
    "# add some noise to y\n",
    "y1 = y * np.random.normal(1, 1, N_data_points)\n",
    "\n",
    "# make a second y with some different noise and an offset\n",
    "y2 = y * np.random.normal(1, 0.5, N_data_points) + 1\n",
    "\n",
    "fig, ax = plt.subplots(dpi=200)\n",
    "ax.plot(x,y1, 'o')\n",
    "ax.plot(x,y2, 'o')\n",
    "ax.set_title('To make the plot yours use a distinctive font like Comic Sans!')\n",
    "ax.set_xscale('log')\n",
    "ax.set_yscale('log')\n",
    "plt.show()"
   ]
  },
  {
   "cell_type": "markdown",
   "metadata": {},
   "source": [
    "# or you can use LaTeX, but this will generally slow things down, so not get for rapid iteration."
   ]
  },
  {
   "cell_type": "code",
   "execution_count": null,
   "metadata": {},
   "outputs": [],
   "source": [
    "plt.rc('text', usetex=True)\n",
    "plt.rcParams['xtick.top'] = True\n",
    "plt.rcParams['ytick.right'] = True\n",
    "\n",
    "# sample data\n",
    "N_data_points = 20\n",
    "x = np.logspace(0, 1.2, N_data_points)\n",
    "y = x**1\n",
    "\n",
    "# set the random seed\n",
    "np.random.seed(2)\n",
    "\n",
    "# add some noise to y\n",
    "y1 = y * np.random.normal(1, 1, N_data_points)\n",
    "\n",
    "# make a second y with some different noise and an offset\n",
    "y2 = y * np.random.normal(1, 0.5, N_data_points) + 1\n",
    "\n",
    "fig, ax = plt.subplots(dpi=200)\n",
    "ax.plot(x,y1, 'o')\n",
    "ax.plot(x,y2, 'o')\n",
    "ax.scatter(x[-3], y1[-3], color='tab:red', zorder=10, s=80)\n",
    "ax.set_title('Or if you prefer a more formal look, use LaTeX for the text!')\n",
    "ax.set_xscale('log')\n",
    "ax.set_yscale('log')\n",
    "plt.show()"
   ]
  },
  {
   "cell_type": "markdown",
   "metadata": {},
   "source": [
    "# Figure size matters!\n",
    "## in a paper a 1 column image is about 3.25 inches wide, and a 2 column image is about 6.5 inches wide. You should set your image to be the size you want it to be in your paper, so the fonts are the correct size and the linewidth are consistent across your images"
   ]
  },
  {
   "cell_type": "code",
   "execution_count": null,
   "metadata": {},
   "outputs": [],
   "source": [
    "fig, ax = plt.subplots(dpi=200)\n",
    "ax.plot(x,y1, 'o')\n",
    "ax.plot(x,y2, 'o')\n",
    "ax.scatter(x[-3], y1[-3], color='tab:red', zorder=10, s=80)\n",
    "ax.text(x[-3]-2, y1[-3], r'ta da $\\rightarrow$', fontsize=12, ha='right', va='center')\n",
    "ax.set_xscale('log')\n",
    "ax.set_yscale('log')\n",
    "\n",
    "ax.set_xlabel('x label')\n",
    "ax.set_ylabel('y label')\n",
    "\n",
    "# set the figure size\n",
    "fig.set_size_inches(3.25, 3)\n",
    "\n",
    "plt.show()"
   ]
  },
  {
   "cell_type": "code",
   "execution_count": null,
   "metadata": {},
   "outputs": [],
   "source": [
    "fig, ax = plt.subplots(dpi=200)\n",
    "ax.plot(x,y1, 'o')\n",
    "ax.plot(x,y2, 'o')\n",
    "ax.scatter(x[-3], y1[-3], color='tab:red', zorder=10, s=80)\n",
    "ax.text(x[-3]-2, y1[-3], r'ta da $\\rightarrow$', fontsize=12, ha='right', va='center')\n",
    "ax.set_xscale('log')\n",
    "ax.set_yscale('log')\n",
    "\n",
    "ax.set_xlabel('x label')\n",
    "ax.set_ylabel('y label')\n",
    "\n",
    "# set the figure size\n",
    "fig.set_size_inches(6.5, 3)\n",
    "\n",
    "plt.show()"
   ]
  },
  {
   "cell_type": "markdown",
   "metadata": {},
   "source": [
    "# If you are making a figure for a presentation then you should think about how it will fit on the page with the other figures and text. "
   ]
  },
  {
   "cell_type": "markdown",
   "metadata": {},
   "source": [
    "# To make your figures look good when viewed in papers on the big screen, you should make sure to save them in a vectorized format like .pdf. This will make sure that the text and lines are crisp and clear at any size. Or if you want to make a rasterized image, make sure to save it at a high resolution like 300 dpi or larger!"
   ]
  },
  {
   "cell_type": "code",
   "execution_count": null,
   "metadata": {},
   "outputs": [],
   "source": [
    "fig, ax = plt.subplots(dpi=200)\n",
    "ax.plot(x,y1, 'o')\n",
    "ax.plot(x,y2, 'o')\n",
    "ax.scatter(x[-3], y1[-3], color='tab:red', zorder=10, s=80)\n",
    "ax.text(x[-3]-2, y1[-3], r'ta da $\\rightarrow$', fontsize=12, ha='right', va='center')\n",
    "ax.set_xscale('log')\n",
    "ax.set_yscale('log')\n",
    "\n",
    "ax.set_xlabel('x label')\n",
    "ax.set_ylabel('y label')\n",
    "\n",
    "# set the figure size\n",
    "fig.set_size_inches(6.5, 3)\n",
    "\n",
    "plt.savefig('scatter_plot_test_dpi100.png', dpi=100, bbox_inches='tight')\n",
    "plt.savefig('scatter_plot_test_dpi300.png', dpi=300, bbox_inches='tight')\n",
    "plt.savefig('scatter_plot_test_dpi100.pdf', dpi=100, bbox_inches='tight')\n"
   ]
  },
  {
   "cell_type": "code",
   "execution_count": null,
   "metadata": {},
   "outputs": [],
   "source": []
  },
  {
   "cell_type": "code",
   "execution_count": null,
   "metadata": {},
   "outputs": [],
   "source": []
  },
  {
   "cell_type": "code",
   "execution_count": null,
   "metadata": {},
   "outputs": [],
   "source": []
  },
  {
   "cell_type": "code",
   "execution_count": null,
   "metadata": {},
   "outputs": [],
   "source": []
  },
  {
   "cell_type": "code",
   "execution_count": null,
   "metadata": {},
   "outputs": [],
   "source": []
  },
  {
   "cell_type": "code",
   "execution_count": null,
   "metadata": {},
   "outputs": [],
   "source": []
  },
  {
   "cell_type": "code",
   "execution_count": null,
   "metadata": {},
   "outputs": [],
   "source": []
  }
 ],
 "metadata": {
  "kernelspec": {
   "display_name": "venv",
   "language": "python",
   "name": "python3"
  },
  "language_info": {
   "codemirror_mode": {
    "name": "ipython",
    "version": 3
   },
   "file_extension": ".py",
   "mimetype": "text/x-python",
   "name": "python",
   "nbconvert_exporter": "python",
   "pygments_lexer": "ipython3",
   "version": "3.11.6"
  }
 },
 "nbformat": 4,
 "nbformat_minor": 2
}
