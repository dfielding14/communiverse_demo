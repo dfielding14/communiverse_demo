{
 "cells": [
  {
   "cell_type": "code",
   "execution_count": null,
   "metadata": {},
   "outputs": [],
   "source": [
    "import matplotlib.pyplot as plt\n",
    "import numpy as np\n",
    "import cmasher as cmr\n",
    "import matplotlib.colors as colors\n",
    "plt.rcParams['xtick.top'] = True\n",
    "plt.rcParams['ytick.right'] = True\n",
    "plt.rcParams['xtick.direction'] = 'in'\n",
    "plt.rcParams['ytick.direction'] = 'in'\n",
    "plt.rcParams['figure.dpi'] = 200"
   ]
  },
  {
   "cell_type": "code",
   "execution_count": null,
   "metadata": {},
   "outputs": [],
   "source": [
    "data = np.load('../data/Turbulence_exampled_data.npz')['data']"
   ]
  },
  {
   "cell_type": "markdown",
   "metadata": {},
   "source": [
    "# Never use jet! "
   ]
  },
  {
   "cell_type": "code",
   "execution_count": null,
   "metadata": {},
   "outputs": [],
   "source": [
    "fig, ax = plt.subplots()\n",
    "plot = ax.imshow(data, origin='lower', aspect='equal', cmap='jet', extent=[0, 1, 0, 1])\n",
    "cbar = fig.colorbar(plot, ax=ax, location='right', pad = 0.01)\n",
    "cbar.set_label(r'$\\rho \\, [{\\rm cm}^{-3}]$')\n",
    "fig.set_size_inches(3,2.5)\n"
   ]
  },
  {
   "cell_type": "markdown",
   "metadata": {},
   "source": [
    "# Viridis is better!"
   ]
  },
  {
   "cell_type": "code",
   "execution_count": null,
   "metadata": {},
   "outputs": [],
   "source": [
    "fig, ax = plt.subplots()\n",
    "plot = ax.imshow(data, origin='lower', aspect='equal', cmap='viridis', extent=[0, 1, 0, 1])\n",
    "cbar = fig.colorbar(plot, ax=ax, location='right', pad = 0.01)\n",
    "cbar.set_label(r'$\\rho \\, [{\\rm cm}^{-3}]$')\n",
    "fig.set_size_inches(3,2.5)\n"
   ]
  },
  {
   "cell_type": "markdown",
   "metadata": {},
   "source": [
    "# this previous example also highlights a pet peeve of mine. x and y ranges are the same but the ticks are different!"
   ]
  },
  {
   "cell_type": "code",
   "execution_count": null,
   "metadata": {},
   "outputs": [],
   "source": [
    "fig, ax = plt.subplots()\n",
    "plot = ax.imshow(data, origin='lower', aspect='equal', cmap='viridis', extent=[0, 1, 0, 1])\n",
    "cbar = fig.colorbar(plot, ax=ax, location='right', pad = 0.01)\n",
    "cbar.set_label(r'$\\rho \\, [{\\rm cm}^{-3}]$')\n",
    "fig.set_size_inches(3,2.5)\n",
    "\n",
    "_= ax.set_xticks(np.linspace(0, 1, 6))\n",
    "_= ax.set_yticks(np.linspace(0, 1, 6))"
   ]
  },
  {
   "cell_type": "markdown",
   "metadata": {},
   "source": [
    "# Try out some of the other matplotlib color maps"
   ]
  },
  {
   "cell_type": "code",
   "execution_count": null,
   "metadata": {},
   "outputs": [],
   "source": [
    "fig, ax = plt.subplots()\n",
    "plot = ax.imshow(data, origin='lower', aspect='equal', cmap='cubehelix', extent=[0, 1, 0, 1])\n",
    "cbar = fig.colorbar(plot, ax=ax, location='right', pad = 0.01)\n",
    "cbar.set_label(r'$\\rho \\, [{\\rm cm}^{-3}]$')\n",
    "fig.set_size_inches(3,2.5)\n",
    "\n",
    "_= ax.set_xticks(np.linspace(0, 1, 6))\n",
    "_= ax.set_yticks(np.linspace(0, 1, 6))"
   ]
  },
  {
   "cell_type": "markdown",
   "metadata": {},
   "source": [
    "# We can also use colormaps from external packages"
   ]
  },
  {
   "cell_type": "code",
   "execution_count": null,
   "metadata": {},
   "outputs": [],
   "source": [
    "import cmasher as cmr\n",
    "import palettable\n",
    "import colorcet as cc"
   ]
  },
  {
   "cell_type": "code",
   "execution_count": null,
   "metadata": {},
   "outputs": [],
   "source": [
    "fig, ax = plt.subplots()\n",
    "plot = ax.imshow(data, origin='lower', aspect='equal', cmap=cmr.apple, extent=[0, 1, 0, 1])\n",
    "cbar = fig.colorbar(plot, ax=ax, location='right', pad = 0.01)\n",
    "cbar.set_label(r'$\\rho \\, [{\\rm cm}^{-3}]$')\n",
    "fig.set_size_inches(3,2.5)\n",
    "\n",
    "_= ax.set_xticks(np.linspace(0, 1, 6))\n",
    "_= ax.set_yticks(np.linspace(0, 1, 6))"
   ]
  },
  {
   "cell_type": "code",
   "execution_count": null,
   "metadata": {},
   "outputs": [],
   "source": [
    "fig, ax = plt.subplots()\n",
    "plot = ax.imshow(data, origin='lower', aspect='equal', cmap=palettable.cmocean.sequential.Matter_20_r.mpl_colormap, extent=[0, 1, 0, 1])\n",
    "cbar = fig.colorbar(plot, ax=ax, location='right', pad = 0.01)\n",
    "cbar.set_label(r'$\\rho \\, [{\\rm cm}^{-3}]$')\n",
    "fig.set_size_inches(3,2.5)\n",
    "\n",
    "_= ax.set_xticks(np.linspace(0, 1, 6))\n",
    "_= ax.set_yticks(np.linspace(0, 1, 6))"
   ]
  },
  {
   "cell_type": "markdown",
   "metadata": {},
   "source": [
    "# Be careful when using diverging colormaps. They can be misleading."
   ]
  },
  {
   "cell_type": "code",
   "execution_count": null,
   "metadata": {},
   "outputs": [],
   "source": [
    "fig, ax = plt.subplots()\n",
    "plot = ax.imshow(data, origin='lower', aspect='equal', cmap=cmr.prinsenvlag, extent=[0, 1, 0, 1])\n",
    "cbar = fig.colorbar(plot, ax=ax, location='right', pad = 0.01)\n",
    "cbar.set_label(r'$\\rho \\, [{\\rm cm}^{-3}]$')\n",
    "fig.set_size_inches(6, 5)\n",
    "\n",
    "_= ax.set_xticks(np.linspace(0, 1, 5))\n",
    "_= ax.set_yticks(np.linspace(0, 1, 5))"
   ]
  },
  {
   "cell_type": "code",
   "execution_count": null,
   "metadata": {},
   "outputs": [],
   "source": [
    "fig, ax = plt.subplots()\n",
    "plot = ax.imshow(data, origin='lower', aspect='equal', cmap=cmr.wildfire, extent=[0, 1, 0, 1])\n",
    "cbar = fig.colorbar(plot, ax=ax, location='right', pad = 0.01)\n",
    "cbar.set_label(r'$\\rho \\, [{\\rm cm}^{-3}]$')\n",
    "fig.set_size_inches(6, 5)\n",
    "\n",
    "_= ax.set_xticks(np.linspace(0, 1, 5))\n",
    "_= ax.set_yticks(np.linspace(0, 1, 5))"
   ]
  },
  {
   "cell_type": "markdown",
   "metadata": {},
   "source": [
    "# Your eye is drawn to the center, but there is nothing special about the center, so be careful!!"
   ]
  },
  {
   "cell_type": "code",
   "execution_count": null,
   "metadata": {},
   "outputs": [],
   "source": []
  },
  {
   "cell_type": "code",
   "execution_count": null,
   "metadata": {},
   "outputs": [],
   "source": []
  },
  {
   "cell_type": "code",
   "execution_count": null,
   "metadata": {},
   "outputs": [],
   "source": []
  },
  {
   "cell_type": "markdown",
   "metadata": {},
   "source": [
    "# For some data it is better to use diverging colormaps\n",
    "## for example, if you have a center value and you want to show values above and below that center value\n",
    "### this could be for temperature, or for a difference from a mean value, or for a dimensionless ratio (like Mach number) where you want to show values above and below 1"
   ]
  },
  {
   "cell_type": "markdown",
   "metadata": {},
   "source": [
    "## Let's try some temperature data"
   ]
  },
  {
   "cell_type": "code",
   "execution_count": null,
   "metadata": {},
   "outputs": [],
   "source": [
    "data = np.load('../data/Mixing_layer_Temperature_example.npz')['T']"
   ]
  },
  {
   "cell_type": "code",
   "execution_count": null,
   "metadata": {},
   "outputs": [],
   "source": [
    "plt.imshow(data, origin='lower', aspect='equal')"
   ]
  },
  {
   "cell_type": "markdown",
   "metadata": {},
   "source": [
    "# Since this data represents temperature we can evoke hot and cold by using red and blue"
   ]
  },
  {
   "cell_type": "code",
   "execution_count": null,
   "metadata": {},
   "outputs": [],
   "source": [
    "fig, ax = plt.subplots()\n",
    "plot = ax.imshow(data, origin='lower', aspect='equal', cmap='seismic', norm=colors.LogNorm())\n",
    "cbar = fig.colorbar(plot, ax=ax, location='top', pad = 0.01)\n",
    "cbar.set_label(r'$T \\, [{\\rm K}]$')\n",
    "fig.set_size_inches(3.25, 8)"
   ]
  },
  {
   "cell_type": "markdown",
   "metadata": {},
   "source": [
    "# Things would be a bit weird if you had it reversed. Cold is blue?? It is like a backwards faucet!"
   ]
  },
  {
   "cell_type": "code",
   "execution_count": null,
   "metadata": {},
   "outputs": [],
   "source": [
    "fig, ax = plt.subplots()\n",
    "plot = ax.imshow(data, origin='lower', aspect='equal', cmap='seismic_r', norm=colors.LogNorm())\n",
    "cbar = fig.colorbar(plot, ax=ax, location='top', pad = 0.01)\n",
    "cbar.set_label(r'$T \\, [{\\rm K}]$')\n",
    "fig.set_size_inches(3.25, 8)"
   ]
  },
  {
   "cell_type": "markdown",
   "metadata": {},
   "source": [
    "# Try some others! Find what you like!"
   ]
  },
  {
   "cell_type": "code",
   "execution_count": null,
   "metadata": {},
   "outputs": [],
   "source": [
    "fig, ax = plt.subplots()\n",
    "plot = ax.imshow(data, origin='lower', aspect='equal', cmap=cc.cm.bkr, norm=colors.LogNorm())\n",
    "cbar = fig.colorbar(plot, ax=ax, location='top', pad = 0.01)\n",
    "cbar.set_label(r'$T \\, [{\\rm K}]$')\n",
    "fig.set_size_inches(3.25, 8)"
   ]
  },
  {
   "cell_type": "code",
   "execution_count": null,
   "metadata": {},
   "outputs": [],
   "source": [
    "fig, ax = plt.subplots()\n",
    "plot = ax.imshow(data, origin='lower', aspect='equal', cmap=palettable.cmocean.sequential.Matter_20_r.mpl_colormap, norm=colors.LogNorm())\n",
    "cbar = fig.colorbar(plot, ax=ax, location='top', pad = 0.01)\n",
    "cbar.set_label(r'$T \\, [{\\rm K}]$')\n",
    "fig.set_size_inches(3.25, 8)"
   ]
  },
  {
   "cell_type": "code",
   "execution_count": null,
   "metadata": {},
   "outputs": [],
   "source": [
    "fig, ax = plt.subplots()\n",
    "plot = ax.imshow(data, origin='lower', aspect='equal', cmap=palettable.scientific.diverging.Roma_20_r.mpl_colormap , norm=colors.LogNorm())\n",
    "cbar = fig.colorbar(plot, ax=ax, location='top', pad = 0.01)\n",
    "cbar.set_label(r'$T \\, [{\\rm K}]$')\n",
    "fig.set_size_inches(3.25, 8)"
   ]
  },
  {
   "cell_type": "markdown",
   "metadata": {},
   "source": [
    "# The previous examples focused on continuous simulation data, but much of the same thinking applies to other types of data"
   ]
  },
  {
   "cell_type": "markdown",
   "metadata": {},
   "source": [
    "# Let's play around with plotting phase distributions or 2D PDFs"
   ]
  },
  {
   "cell_type": "code",
   "execution_count": null,
   "metadata": {},
   "outputs": [],
   "source": [
    "pdf_data = np.load('../data/2D_Distribution_example.npz')\n",
    "data = pdf_data['data']\n",
    "bins1 = pdf_data['bins1']\n",
    "bins2 = pdf_data['bins2']"
   ]
  },
  {
   "cell_type": "markdown",
   "metadata": {},
   "source": [
    "# using a colormap that is dark at low values with a 2D PDF will draw the eye to the edge of the distribution where there is actually very little going on, and you will miss the interesting stuff in the middle"
   ]
  },
  {
   "cell_type": "markdown",
   "metadata": {},
   "source": [
    "# bad"
   ]
  },
  {
   "cell_type": "code",
   "execution_count": null,
   "metadata": {},
   "outputs": [],
   "source": [
    "plt.pcolormesh(bins1, bins2, data, norm=colors.LogNorm(), cmap = 'cubehelix')\n",
    "plt.loglog()\n",
    "plt.ylim((1e-2,2e0))\n",
    "plt.xlabel('x')\n",
    "plt.ylabel('y')"
   ]
  },
  {
   "cell_type": "markdown",
   "metadata": {},
   "source": [
    "# Good!"
   ]
  },
  {
   "cell_type": "code",
   "execution_count": null,
   "metadata": {},
   "outputs": [],
   "source": [
    "plt.pcolormesh(bins1, bins2, data, norm=colors.LogNorm(), cmap = 'cubehelix_r')\n",
    "plt.loglog()\n",
    "plt.ylim((1e-2,2e0))\n",
    "plt.xlabel('x')\n",
    "plt.ylabel('y')"
   ]
  },
  {
   "cell_type": "code",
   "execution_count": null,
   "metadata": {},
   "outputs": [],
   "source": [
    "fig, ax = plt.subplots()\n",
    "plot = ax.pcolormesh(bins1, bins2, data, norm=colors.LogNorm(vmin = 1e-6), cmap = cmr.savanna_r)\n",
    "cb = fig.colorbar(plot, ax=ax, location='right', pad = 0.01)\n",
    "ax.loglog()\n",
    "ax.set_xlabel('x')\n",
    "ax.set_ylabel('y')"
   ]
  },
  {
   "cell_type": "code",
   "execution_count": null,
   "metadata": {},
   "outputs": [],
   "source": []
  }
 ],
 "metadata": {
  "kernelspec": {
   "display_name": "venv",
   "language": "python",
   "name": "python3"
  },
  "language_info": {
   "codemirror_mode": {
    "name": "ipython",
    "version": 3
   },
   "file_extension": ".py",
   "mimetype": "text/x-python",
   "name": "python",
   "nbconvert_exporter": "python",
   "pygments_lexer": "ipython3",
   "version": "3.11.6"
  }
 },
 "nbformat": 4,
 "nbformat_minor": 2
}
