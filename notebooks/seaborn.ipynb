{
 "cells": [
  {
   "cell_type": "code",
   "execution_count": null,
   "metadata": {},
   "outputs": [],
   "source": [
    "import matplotlib.pyplot as plt\n",
    "import numpy as np\n",
    "import seaborn as sns\n",
    "import pandas as pd"
   ]
  },
  {
   "cell_type": "code",
   "execution_count": null,
   "metadata": {},
   "outputs": [],
   "source": [
    "# sample data\n",
    "N_data_points = 20\n",
    "x = np.logspace(0, 1.2, N_data_points)\n",
    "y = x**1\n",
    "\n",
    "# set the random seed\n",
    "np.random.seed(2)\n",
    "\n",
    "# add some noise to y\n",
    "y1 = y * np.random.normal(1, 1, N_data_points)\n",
    "\n",
    "# make a second y with some different noise and an offset\n",
    "y2 = y * np.random.normal(1, 0.5, N_data_points) + 1\n",
    "\n",
    "sns.set_theme()\n",
    "fig, ax = plt.subplots(dpi=200)\n",
    "ax.plot(x,y1, 'o')\n",
    "ax.plot(x,y2, 'o')\n",
    "ax.set_xscale('log')\n",
    "ax.set_yscale('log')\n",
    "plt.show()"
   ]
  },
  {
   "cell_type": "code",
   "execution_count": null,
   "metadata": {},
   "outputs": [],
   "source": [
    "# create a DataFrame to hold the data\n",
    "data = pd.DataFrame({\n",
    "    'x': np.concatenate([x, x]),\n",
    "    'y': np.concatenate([y1, y2]),\n",
    "    'group': ['y1'] * N_data_points + ['y2'] * N_data_points\n",
    "})\n",
    "\n",
    "# plot using seaborn\n",
    "sns.set_theme()  # Set the theme for the plot (optional)\n",
    "plt.figure(dpi=200)\n",
    "sns.scatterplot(data=data, x='x', y='y', hue='group', style='group')\n",
    "plt.xscale('log')\n",
    "plt.yscale('log')\n",
    "plt.show()\n"
   ]
  },
  {
   "cell_type": "code",
   "execution_count": null,
   "metadata": {},
   "outputs": [],
   "source": [
    "# sample data\n",
    "N_data_points = 50\n",
    "x = np.logspace(0, 1.2, N_data_points)\n",
    "y = x**1\n",
    "\n",
    "# set the random seed\n",
    "np.random.seed(4)\n",
    "\n",
    "N_lines = 10\n",
    "ys = np.array([y * np.random.normal(1, 0.4, N_data_points) * (i**1.5 + 1) for i in range(N_lines)])\n",
    "\n",
    "# create a DataFrame to hold the data\n",
    "data = pd.DataFrame({f'line_{i}': ys[i] for i in range(N_lines)})\n",
    "data['x'] = x\n",
    "\n",
    "# melt the DataFrame to long format\n",
    "data_long = pd.melt(data, id_vars=['x'], var_name='line', value_name='y')\n",
    "\n",
    "# plot using seaborn\n",
    "sns.set_theme()\n",
    "plt.figure(dpi=200)\n",
    "sns.lineplot(data=data_long, x='x', y='y', hue='line')\n",
    "plt.xscale('log')\n",
    "plt.yscale('log')\n",
    "plt.legend(title='Line', bbox_to_anchor=(1.05, 1), loc='upper left')\n",
    "plt.show()\n"
   ]
  },
  {
   "cell_type": "code",
   "execution_count": null,
   "metadata": {},
   "outputs": [],
   "source": [
    "# sample data\n",
    "N_data_points = 50\n",
    "x = np.logspace(0, 1.2, N_data_points)\n",
    "y = x**1\n",
    "\n",
    "# set the random seed\n",
    "np.random.seed(4)\n",
    "\n",
    "N_lines = 10\n",
    "ys = np.array([y * np.random.normal(1, 0.4, N_data_points) * (i**1.5 + 1) for i in range(N_lines)])\n",
    "\n",
    "# create a DataFrame to hold the data\n",
    "data = pd.DataFrame({f'line_{i}': ys[i] for i in range(N_lines)})\n",
    "data['x'] = x\n",
    "\n",
    "# melt the DataFrame to long format\n",
    "data_long = pd.melt(data, id_vars=['x'], var_name='line', value_name='y')\n",
    "\n",
    "# plot using seaborn\n",
    "sns.set_theme('notebook', style='dark')\n",
    "sns.set_style('ticks')\n",
    "plt.figure(dpi=200)\n",
    "sns.lineplot(data=data_long, x='x', y='y', hue='line', palette='viridis')\n",
    "plt.xscale('log')\n",
    "plt.yscale('log')\n",
    "plt.legend(title='Line', bbox_to_anchor=(1.05, 1), loc='upper left')\n",
    "plt.show()\n"
   ]
  },
  {
   "cell_type": "code",
   "execution_count": null,
   "metadata": {},
   "outputs": [],
   "source": []
  },
  {
   "cell_type": "code",
   "execution_count": null,
   "metadata": {},
   "outputs": [],
   "source": []
  },
  {
   "cell_type": "code",
   "execution_count": null,
   "metadata": {},
   "outputs": [],
   "source": []
  },
  {
   "cell_type": "code",
   "execution_count": null,
   "metadata": {},
   "outputs": [],
   "source": []
  },
  {
   "cell_type": "code",
   "execution_count": null,
   "metadata": {},
   "outputs": [],
   "source": []
  },
  {
   "cell_type": "code",
   "execution_count": null,
   "metadata": {},
   "outputs": [],
   "source": []
  }
 ],
 "metadata": {
  "kernelspec": {
   "display_name": "venv",
   "language": "python",
   "name": "python3"
  },
  "language_info": {
   "codemirror_mode": {
    "name": "ipython",
    "version": 3
   },
   "file_extension": ".py",
   "mimetype": "text/x-python",
   "name": "python",
   "nbconvert_exporter": "python",
   "pygments_lexer": "ipython3",
   "version": "3.11.6"
  }
 },
 "nbformat": 4,
 "nbformat_minor": 2
}
